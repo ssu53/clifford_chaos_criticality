{
 "cells": [
  {
   "cell_type": "code",
   "execution_count": null,
   "metadata": {},
   "outputs": [],
   "source": [
    "import numpy as np\n",
    "from numpy.random import choice\n",
    "import pickle\n",
    "from tqdm import tqdm\n",
    "import time\n",
    "import matplotlib.pyplot as plt\n",
    "from routines_aux import style\n",
    "from numpy.fft import fft\n",
    "\n",
    "# from routines_aux import gf2RowRed\n",
    "from routines_tab import gf2RowRed"
   ]
  },
  {
   "cell_type": "code",
   "execution_count": null,
   "metadata": {},
   "outputs": [],
   "source": [
    "def fft_plot(signal, timeInterval, hann=True, psd=False):\n",
    "    \"\"\"\n",
    "    get freqs axis and power spectral density of signal, collected over timeInterval\n",
    "    \"\"\"\n",
    "    nSamples = len(signal)\n",
    "    dt = timeInterval/(nSamples)\n",
    "    #print('Nyquist freq: ', nSamples/timeInterval/2)\n",
    "    spectrumLength = int(np.floor(nSamples/2))+1\n",
    "    freqs = np.arange(spectrumLength) / (dt*nSamples)\n",
    "    \n",
    "    if hann:\n",
    "        hann_window = np.hanning(nSamples)\n",
    "        asd = np.abs(fft(hann_window*(signal-np.mean(signal)))[:spectrumLength])\n",
    "    else:\n",
    "        asd = np.abs(fft(signal)[:spectrumLength])\n",
    "    if psd:\n",
    "        return freqs, asd**2\n",
    "    \n",
    "    return freqs, asd"
   ]
  },
  {
   "cell_type": "markdown",
   "metadata": {},
   "source": [
    "# generate random matrix"
   ]
  },
  {
   "cell_type": "code",
   "execution_count": null,
   "metadata": {},
   "outputs": [],
   "source": [
    "directory = 'temp7_rand'\n",
    "directory = 'temp3'\n",
    "\n",
    "L = 16\n",
    "max_t = 16*L\n",
    "\n",
    "# L = 64\n",
    "# max_t = 8*L\n",
    "\n",
    "infile = open(directory + '/L' + str(L) + '_evol' + str(max_t//L), 'rb')\n",
    "n_evecs = pickle.load(infile)\n",
    "infile.close()\n",
    "\n",
    "print(n_evecs.shape)"
   ]
  },
  {
   "cell_type": "code",
   "execution_count": null,
   "metadata": {},
   "outputs": [],
   "source": [
    "Ls = [8,16,24,32,48,64]\n",
    "sffs = [59.15,326.79,491.27,5320.12,915.32,2411.55]\n",
    "n_evecs = [1.70,1.65,1.66,1.69,1.67,1.64]\n",
    "plt.plot(Ls,n_evecs)"
   ]
  },
  {
   "cell_type": "code",
   "execution_count": null,
   "metadata": {},
   "outputs": [],
   "source": [
    "lt = 50\n",
    "\n",
    "plt.figure(figsize=(20,3))\n",
    "plt.semilogy(np.mean(2**n_evecs, axis=0), '.-')\n",
    "# plt.semilogy(np.std(2**n_evecs, axis=0), '.-')\n",
    "print('late time mean sff', np.mean(np.mean(2**n_evecs[lt:])))\n",
    "print('late time std sff', np.mean(np.std(2**n_evecs[lt:])))\n",
    "\n",
    "plt.figure(figsize=(20,3))\n",
    "plt.plot(np.mean(n_evecs, axis=0), '.-')\n",
    "# plt.plot(np.std(n_evecs, axis=0), '.-')\n",
    "print('late time mean number of eigenvectors', np.mean(np.mean(n_evecs, axis=0)[lt:]))\n",
    "print('late time std number of eigenvectors', np.mean(np.std(n_evecs, axis=0)[lt:]))\n",
    "\n",
    "plt.figure(figsize=(20,3))\n",
    "freqs, psd = fft_plot(np.mean(n_evecs,axis=0), n_evecs.shape[1])\n",
    "plt.plot(freqs, psd, '.-')\n",
    "for peak in [1/2,1/3,1/4,1/5,1/7,2/7,2/5,3/7]:\n",
    "    plt.axvline(x=peak, color='k')"
   ]
  },
  {
   "cell_type": "code",
   "execution_count": null,
   "metadata": {},
   "outputs": [],
   "source": [
    "plt.figure(figsize=(14,3))\n",
    "ts = [1,4,8,12,16,20]\n",
    "for t in ts:\n",
    "    unique, counts = np.unique(n_evecs[:,t-1], return_counts=True)\n",
    "    plt.plot(unique, counts, '.-')\n",
    "plt.legend(ts)"
   ]
  },
  {
   "cell_type": "code",
   "execution_count": null,
   "metadata": {},
   "outputs": [],
   "source": [
    "plt.figure(figsize=(20,7))\n",
    "for t in range(10):\n",
    "    plt.subplot(2,5,t+1)\n",
    "    unique, counts = np.unique(n_evecs[:,t], return_counts=True)\n",
    "    plt.bar(unique, counts)\n",
    "    plt.xlim([-0.9,10])"
   ]
  },
  {
   "cell_type": "code",
   "execution_count": null,
   "metadata": {},
   "outputs": [],
   "source": [
    "plt.figure(figsize=(20,7))\n",
    "for t in range(10,20):\n",
    "    plt.subplot(2,5,t+1-10)\n",
    "    unique, counts = np.unique(n_evecs[:,t], return_counts=True)\n",
    "    plt.bar(unique, counts)\n",
    "    plt.xlim([-0.9,10])"
   ]
  },
  {
   "cell_type": "code",
   "execution_count": null,
   "metadata": {},
   "outputs": [],
   "source": [
    "plt.figure(figsize=(20,7))\n",
    "for t in range(20,30):\n",
    "    plt.subplot(2,5,t+1-20)\n",
    "    unique, counts = np.unique(n_evecs[:,t], return_counts=True)\n",
    "    plt.bar(unique, counts)\n",
    "    plt.xlim([-0.9,10])"
   ]
  },
  {
   "cell_type": "code",
   "execution_count": null,
   "metadata": {},
   "outputs": [],
   "source": []
  }
 ],
 "metadata": {
  "kernelspec": {
   "display_name": "Python 3",
   "language": "python",
   "name": "python3"
  },
  "language_info": {
   "codemirror_mode": {
    "name": "ipython",
    "version": 3
   },
   "file_extension": ".py",
   "mimetype": "text/x-python",
   "name": "python",
   "nbconvert_exporter": "python",
   "pygments_lexer": "ipython3",
   "version": "3.7.11"
  }
 },
 "nbformat": 4,
 "nbformat_minor": 4
}
