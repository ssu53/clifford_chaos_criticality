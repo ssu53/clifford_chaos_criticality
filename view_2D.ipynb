{
 "cells": [
  {
   "cell_type": "code",
   "execution_count": null,
   "metadata": {},
   "outputs": [],
   "source": [
    "import numpy as np\n",
    "import time\n",
    "from numpy.random import choice\n",
    "from random import randint, random\n",
    "import pickle\n",
    "import matplotlib.pyplot as plt\n",
    "from tqdm.auto import tqdm"
   ]
  },
  {
   "cell_type": "code",
   "execution_count": null,
   "metadata": {
    "scrolled": true
   },
   "outputs": [],
   "source": [
    "# load two-qubit cliffords\n",
    "\n",
    "infile = open('allGates', 'rb')\n",
    "allGates = pickle.load(infile)\n",
    "infile.close()\n",
    "print(\"{} gates loaded\".format(len(allGates)))"
   ]
  },
  {
   "cell_type": "code",
   "execution_count": null,
   "metadata": {
    "tags": []
   },
   "outputs": [],
   "source": [
    "from routines_aux import style, xzAdjacent, sym_inner_prod, check_invar\n",
    "from routines_stab import initTab, gfunc, getDet, rowsum, measure, measure_tossResult, twoQubitClif\n",
    "from routines_ent import entEntropy, gf2RowRed, gf2RowRedright, clippedgauge, \\\n",
    "                         check_clippedgauge, getEndpoints, entEntropyclipped\n",
    "from routines_1D import simulate1D"
   ]
  },
  {
   "cell_type": "code",
   "execution_count": null,
   "metadata": {},
   "outputs": [],
   "source": [
    "# autoreloading\n",
    "# without autoreloading, restart kernel and reload cell post module edits. Not sufficient to rerun cell!\n",
    "# https://ipython.org/ipython-doc/3/config/extensions/autoreload.html\n",
    "%load_ext autoreload"
   ]
  },
  {
   "cell_type": "code",
   "execution_count": null,
   "metadata": {
    "tags": []
   },
   "outputs": [],
   "source": [
    "# turn on autoreloading\n",
    "%autoreload 2"
   ]
  },
  {
   "cell_type": "code",
   "execution_count": null,
   "metadata": {
    "tags": []
   },
   "outputs": [],
   "source": [
    "# turn off autoreloading\n",
    "%autoreload 0"
   ]
  },
  {
   "cell_type": "markdown",
   "metadata": {},
   "source": [
    "#### note\n",
    "Python functions pass arguments by reference, so gf2RowRed will modify the input matrix\n",
    "\n",
    "Slicing:\n",
    "\n",
    "a = b = [1, 2, 3]    \n",
    "a = a[:2]  # The identifier `a` now points to a new object, nothing changes for `b`.\n",
    "\n",
    "This results in a = [1, 2], b = [1, 2, 3]. To modify a slice object in place, \n",
    "\n",
    "a = b = [1, 2, 3]    \n",
    "a[:] = a[:2]  # Updates the object in-place, hence affects all references.\n",
    "\n",
    "This results in a = [1, 2], b = [1, 2].\n",
    "\n",
    "since entEntropy() has the line: tab_red = tab[n:2*n, np.concatenate((np.array(A_comp), np.array(A_comp) + n))]\n",
    "\n",
    "entEntropy() will not modify the input tableau"
   ]
  },
  {
   "cell_type": "code",
   "execution_count": null,
   "metadata": {
    "scrolled": true
   },
   "outputs": [],
   "source": [
    "def plotEnt(entEnt, n=None, p=None, cut_size=None, cut_samples=None, reps=None):\n",
    "    if reps is None:\n",
    "        reps = 1\n",
    "    plt.figure(figsize=(10,4))\n",
    "    plt.plot(entEnt)\n",
    "    plt.title(\"n = {}, p = {}, cut_size = {}, cut_samples = {}, reps={}\".format(n, p, cut_size, cut_samples, reps))\n",
    "    plt.xlabel('timestep')\n",
    "    plt.ylabel('entanglement entropy')\n",
    "    #plt.ylim([0,n/2])\n",
    "    plt.grid(True)\n",
    "    plt.show()"
   ]
  },
  {
   "cell_type": "code",
   "execution_count": null,
   "metadata": {
    "scrolled": true
   },
   "outputs": [],
   "source": [
    "# testing 1D simulation and clipped gaauge\n",
    "\n",
    "n = 8\n",
    "entEnt, tab, _, n, _, _, _ = simulate1D(runtime = 50, n = n, p = 0.1, cut_size = None, cut_samples = 1, verbose = False)\n",
    "tabRed = xzAdjacent(tab[n:2*n, :-1])\n",
    "\n",
    "clipped = clippedgauge(tabRed)\n",
    "print(\"in clipped gauge?\", check_clippedgauge(clipped))\n",
    "\n",
    "l_ends, r_ends = getEndpoints(clipped)\n",
    "print(l_ends)\n",
    "print(r_ends)\n",
    "\n",
    "for i in range(n):\n",
    "    print('qubit', i, 'entropy', entEntropyclipped(l_ends, r_ends, i))\n",
    "\n",
    "style(clipped)"
   ]
  },
  {
   "cell_type": "code",
   "execution_count": null,
   "metadata": {
    "tags": []
   },
   "outputs": [],
   "source": [
    "def simulate2D(runtime = 20, n = 6, p = 0, cut_size = None, cut_samples = 3, verbose = False):\n",
    "    \"\"\"\n",
    "    open boundary conditions (OBC), valid for both odd and even n\n",
    "    works on a square grid of n*n\n",
    "    \"\"\"\n",
    "\n",
    "    if verbose:\n",
    "        start = time.time()\n",
    "        \n",
    "    if cut_size is None:\n",
    "        cut_size = n//2\n",
    "    \n",
    "    tab = initTab(n*n)\n",
    "    entEnt = np.zeros(runtime) \n",
    "    \n",
    "    for t in (tqdm(range(runtime)) if verbose else range(runtime)):\n",
    "        \n",
    "        # estimate entropy\n",
    "        entEnt_sample = np.zeros(cut_samples, dtype=int)\n",
    "        for i in range(cut_samples):\n",
    "            #A = np.roll(range(n), randint(0,n))[:cut_size] # contiguous geometry PBC\n",
    "            A = np.arange(0, randint(1,n-1)) # contiguous geometry OBC\n",
    "            A = np.concatenate([A+n*row for row in range(n)]) # check this\n",
    "            entEnt_sample[i] = entEntropy(tab, A)\n",
    "        entEnt[t] = np.mean(entEnt_sample)\n",
    "\n",
    "        # act with gates - horizontal links\n",
    "        for i in range(0, n-1, 2):\n",
    "            for j in range(0, n):\n",
    "                twoQubitClif(tab, allGates[choice(len(allGates))], i+n*j, (i+1)+n*j)\n",
    "\n",
    "        # measure\n",
    "        for i in range(0, n*n):\n",
    "            rand_num = random.random()\n",
    "            if rand_num < p:\n",
    "                measure_tossResult(tab, i)\n",
    "                \n",
    "        # act with gates - vertical links\n",
    "        for i in range(0, n):\n",
    "            for j in range(0, n-1, 2):\n",
    "                twoQubitClif(tab, allGates[choice(len(allGates))], i+n*j, i+n*(j+1))\n",
    "                \n",
    "        # measure\n",
    "        for i in range(0, n*n):\n",
    "            rand_num = random.random()\n",
    "            if rand_num < p:\n",
    "                measure_tossResult(tab, i)\n",
    "            \n",
    "        # act with gates - alternate horizontal links\n",
    "        for i in range(1, n-1, 2):\n",
    "            for j in range(0, n):\n",
    "                twoQubitClif(tab, allGates[choice(len(allGates))], i+n*j, (i+1)+n*j)\n",
    "                    \n",
    "        # measure\n",
    "        for i in range(0, n*n):\n",
    "            rand_num = random.random()\n",
    "            if rand_num < p:\n",
    "                measure_tossResult(tab, i)\n",
    "                \n",
    "        # act with gates - alternate vertical links\n",
    "        for i in range(0, n):\n",
    "            for j in range(1, n-1, 2):\n",
    "                twoQubitClif(tab, allGates[choice(len(allGates))], i+n*j, i+n*(j+1))\n",
    "                \n",
    "        # measure\n",
    "        for i in range(0, n*n):\n",
    "            rand_num = random.random()\n",
    "            if rand_num < p:\n",
    "                measure_tossResult(tab, i)\n",
    "\n",
    "    if verbose:\n",
    "        print(\"runtime: {}\".format(time.time() - start))\n",
    "    \n",
    "    return(entEnt, tab, runtime, n, p, cut_size, cut_samples)"
   ]
  },
  {
   "cell_type": "code",
   "execution_count": null,
   "metadata": {},
   "outputs": [],
   "source": [
    "entEnt, tab, _, n, p, cut_size, cut_samples = simulate2D(runtime=20, n=10, p=0.1, cut_size=None, cut_samples=4, verbose=True)\n",
    "plotEnt(entEnt, n, p, cut_size, cut_samples)"
   ]
  },
  {
   "cell_type": "code",
   "execution_count": null,
   "metadata": {},
   "outputs": [],
   "source": [
    "entEnt, tab, _, n, p, cut_size, cut_samples = simulate2D(runtime=20, n=8, p=0.1, cut_size=None, cut_samples=4, verbose=True)\n",
    "plotEnt(entEnt, n, p, cut_size, cut_samples)"
   ]
  },
  {
   "cell_type": "code",
   "execution_count": null,
   "metadata": {},
   "outputs": [],
   "source": [
    "entEnt, tab, _, n, p, cut_size, cut_samples = simulate2D(runtime=20, n=6, p=0.1, cut_size=None, cut_samples=4, verbose=True)\n",
    "plotEnt(entEnt, n, p, cut_size, cut_samples)"
   ]
  },
  {
   "cell_type": "code",
   "execution_count": null,
   "metadata": {},
   "outputs": [],
   "source": [
    "entEnt, tab, _, n, p, cut_size, cut_samples = simulate2D(runtime=30, n=6, p=0.2, cut_size=None, cut_samples=4, verbose=True)\n",
    "plotEnt(entEnt, n, p, cut_size, cut_samples)"
   ]
  },
  {
   "cell_type": "code",
   "execution_count": null,
   "metadata": {},
   "outputs": [],
   "source": [
    "entEnt, tab, _, n, p, cut_size, cut_samples = simulate2D(runtime=20, n=9, p=0.15, cut_size=None, cut_samples=4, verbose=True)\n",
    "plotEnt(entEnt, n, p, cut_size, cut_samples)"
   ]
  },
  {
   "cell_type": "code",
   "execution_count": null,
   "metadata": {
    "tags": []
   },
   "outputs": [],
   "source": [
    "ns = [5,6,7,8,9]\n",
    "# ps = [0.05, 0.1, 0.15, 0.2, 0.25, 0.3, 0.35]\n",
    "ps = [0.1, 0.15, 0.2]\n",
    "runtime = 20\n",
    "ents = np.zeros((len(ns), len(ps), runtime))\n",
    "\n",
    "for i in range(len(ns)):\n",
    "    for j in range(len(ps)):\n",
    "        print(ns[i], ps[j])\n",
    "        entEnt, _, _, _, _, _, _ = simulate2D(runtime=runtime, n=ns[i], p=ps[j], cut_samples=ns[i]//2, verbose=True)\n",
    "        ents[i,j,:] = entEnt"
   ]
  },
  {
   "cell_type": "code",
   "execution_count": null,
   "metadata": {},
   "outputs": [],
   "source": [
    "ents_equ = np.mean(ents[:,:,-10:], axis=2)\n",
    "plt.figure(figsize=(10,10))\n",
    "# plt.semilogy(ns, ents_equ, '.-')\n",
    "plt.plot(ns, ents_equ, '.-')\n",
    "plt.legend(ps)\n",
    "plt.grid(True)"
   ]
  },
  {
   "cell_type": "code",
   "execution_count": null,
   "metadata": {},
   "outputs": [],
   "source": [
    "ents_equ = np.mean(ents[:,:,-5:], axis=2)\n",
    "plt.figure(figsize=(10,10))\n",
    "# plt.semilogy(ns, ents_equ, '.-')\n",
    "plt.plot(ns, ents_equ, '.-')\n",
    "plt.legend(ps)\n",
    "# plt.xlim([4,10])\n",
    "plt.grid(True)"
   ]
  },
  {
   "cell_type": "code",
   "execution_count": null,
   "metadata": {},
   "outputs": [],
   "source": [
    "print(ent_2d.shape)\n",
    "print(ents[:,:,10:].shape)\n",
    "print(np.vstack((ent_2d, ents[:,:,10:])).shape)"
   ]
  },
  {
   "cell_type": "code",
   "execution_count": null,
   "metadata": {},
   "outputs": [],
   "source": [
    "# outfile = open('ent_2d', 'wb')\n",
    "# pickle.dump(np.vstack((ent_2d, ents)), outfile)\n",
    "# outfile.close()\n",
    "\n",
    "# infile = open('ent_2d', 'rb')\n",
    "# ent_2d = pickle.load(infile)\n",
    "# infile.close()\n",
    "\n",
    "ents_equ = np.mean(ent_2d[:,:,-10:], axis=2)\n",
    "# ents_equ = np.mean(np.vstack((ent_2d, ents[:,:,10:]))[:,:,-5:], axis=2)\n",
    "print(ents_equ.shape)\n",
    "print(ns)\n",
    "print(ps)\n",
    "# print(ents_equ)\n",
    "\n",
    "plt.figure(figsize=(10,10))\n",
    "# plt.semilogy(ns, ents_equ, '.-')\n",
    "# plt.plot(ns, ents_equ, '.-')\n",
    "plt.plot(ns, np.mean(ents0[:,:,-5:], axis=2))\n",
    "plt.plot(ns, np.mean(ents005[:,:,-5:], axis=2))\n",
    "plt.plot(ns, np.mean(ents01[:,:,-5:], axis=2))\n",
    "plt.plot(ns, np.mean(ents015[:,:,-5:], axis=2))\n",
    "plt.plot(ns, np.mean(ents02[:,:,-5:], axis=2))\n",
    "plt.plot(ns, np.mean(ents03[:,:,-5:], axis=2))\n",
    "plt.plot(ns, np.mean(ents05[:,:,-5:], axis=2))\n",
    "plt.legend([0, 0.05, 0.1, 0.15, 0.2, 0.3, 0.5])\n",
    "# plt.xlim([4,10])\n",
    "plt.grid(True)"
   ]
  },
  {
   "cell_type": "code",
   "execution_count": null,
   "metadata": {
    "tags": []
   },
   "outputs": [],
   "source": []
  }
 ],
 "metadata": {
  "kernelspec": {
   "display_name": "Python 3",
   "language": "python",
   "name": "python3"
  },
  "language_info": {
   "codemirror_mode": {
    "name": "ipython",
    "version": 3
   },
   "file_extension": ".py",
   "mimetype": "text/x-python",
   "name": "python",
   "nbconvert_exporter": "python",
   "pygments_lexer": "ipython3",
   "version": "3.7.11"
  }
 },
 "nbformat": 4,
 "nbformat_minor": 4
}
