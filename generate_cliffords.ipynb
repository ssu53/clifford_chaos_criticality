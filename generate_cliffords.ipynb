{
 "cells": [
  {
   "cell_type": "markdown",
   "metadata": {},
   "source": [
    "# Generating repository of two-qubit cliffords"
   ]
  },
  {
   "cell_type": "code",
   "execution_count": 203,
   "metadata": {},
   "outputs": [],
   "source": [
    "import numpy as np\n",
    "import pickle\n",
    "from numpy.random import choice\n",
    "from random import choice, uniform\n",
    "from routines_aux import style\n",
    "from tqdm.auto import tqdm"
   ]
  },
  {
   "cell_type": "code",
   "execution_count": 2,
   "metadata": {},
   "outputs": [],
   "source": [
    "# generate each of the two qubit cliffords\n",
    "# populate dictionary mapping between raw index of 11520 gates to its C2 composition\n",
    "\n",
    "dictClif = {}\n",
    "\n",
    "def lst_gen(lst):\n",
    "    for item in lst:\n",
    "        yield item\n",
    "        \n",
    "# total number of gates\n",
    "index_gen = lst_gen(np.arange(11520))\n",
    "\n",
    "singleClass = []\n",
    "for i in range(24):\n",
    "    for j in range(24):\n",
    "        tab = allGens()\n",
    "        C1(tab, 0, i)\n",
    "        C1(tab, 1, j)\n",
    "        singleClass.append(tab)\n",
    "        dictClif[next(index_gen)] = ['single', i, j]\n",
    "        \n",
    "cnotClass = []\n",
    "for i in range(24):\n",
    "    for j in range(24):\n",
    "        for k in S1_ind:\n",
    "            for l in S1y_ind:\n",
    "                tab = allGens()\n",
    "                C1(tab, 0, i)\n",
    "                C1(tab, 1, j)\n",
    "                CZ(tab, 0, 1)\n",
    "                C1(tab, 0, k)\n",
    "                C1(tab, 1, l)\n",
    "                cnotClass.append(tab)\n",
    "                dictClif[next(index_gen)] = ['cnot', i, j, k, l]\n",
    "                \n",
    "iswapClass = []\n",
    "for i in range(24):\n",
    "    for j in range(24):\n",
    "        for k in S1y_ind:\n",
    "            for l in S1x_ind:\n",
    "                tab = allGens()\n",
    "                C1(tab, 0, i)\n",
    "                C1(tab, 1, j)\n",
    "                CZ(tab, 0, 1)\n",
    "                C1(tab, 0, C1_names.index('Y2'))\n",
    "                C1(tab, 1, C1_names.index('-X2'))\n",
    "                CZ(tab, 0, 1)\n",
    "                C1(tab, 0, k)\n",
    "                C1(tab, 1, l)\n",
    "                iswapClass.append(tab)\n",
    "                dictClif[next(index_gen)] = ['iswap', i, j, k, l]\n",
    "                \n",
    "swapClass = []\n",
    "for i in range(24):\n",
    "    for j in range(24):\n",
    "        tab = allGens()\n",
    "        C1(tab, 0, i)\n",
    "        C1(tab, 1, j)\n",
    "        CZ(tab, 0, 1)\n",
    "        C1(tab, 0, C1_names.index('-Y2'))\n",
    "        C1(tab, 1, C1_names.index('Y2'))\n",
    "        CZ(tab, 0, 1)\n",
    "        C1(tab, 0, C1_names.index('Y2'))\n",
    "        C1(tab, 1, C1_names.index('-Y2'))\n",
    "        CZ(tab, 0, 1)\n",
    "        C1(tab, 1, C1_names.index('Y2'))\n",
    "        swapClass.append(tab)\n",
    "        dictClif[next(index_gen)] = ['swap', i, j]\n",
    "        \n",
    "allGates = np.concatenate((singleClass, cnotClass, iswapClass, swapClass))"
   ]
  },
  {
   "cell_type": "code",
   "execution_count": 10,
   "metadata": {
    "jupyter": {
     "outputs_hidden": true
    }
   },
   "outputs": [],
   "source": [
    "# save locally\n",
    "\n",
    "outfile = open('allGates', 'wb')\n",
    "pickle.dump(allGates, outfile)\n",
    "outfile.close()\n",
    "\n",
    "outfile = open('dictClif', 'wb')\n",
    "pickle.dump(dictClif, outfile)\n",
    "outfile.close()"
   ]
  },
  {
   "cell_type": "markdown",
   "metadata": {},
   "source": [
    "# A few sanity checks"
   ]
  },
  {
   "cell_type": "code",
   "execution_count": 8,
   "metadata": {},
   "outputs": [],
   "source": [
    "def gfunc(x1, z1, x2, z2):\n",
    "    if ((x1 != 0) and (x1 != 1)) or ((z1 != 0) and (z1 != 1)) or ((x2 != 0) and (x2 != 1)) or ((z2 != 0) and (z2 != 1)):\n",
    "        raise Exception('invalid inputs')\n",
    "    if (x1 == 0) and (z1 == 0):\n",
    "        return 0\n",
    "    if (x1 == 1) and (z1 == 1):\n",
    "        return (z2 - x2)\n",
    "    if (x1 == 1) and (z1 == 0):\n",
    "        return z2*(2*x2-1)\n",
    "    if (x1 == 0) and (z1 == 1):\n",
    "        return x2*(1-2*z2)"
   ]
  },
  {
   "cell_type": "code",
   "execution_count": 9,
   "metadata": {
    "collapsed": true
   },
   "outputs": [
    {
     "name": "stdout",
     "output_type": "stream",
     "text": [
      "I 0\n",
      "X 1\n",
      "Y 0\n",
      "Y, X 1\n",
      "X2, Y2 0\n",
      "X2, -Y2 1\n",
      "-X2, Y2 1\n",
      "-X2, -Y2 0\n",
      "Y2, X2 0\n",
      "Y2, -X2 1\n",
      "-Y2, X2 0\n",
      "-Y2, -X2 1\n",
      "X2 0\n",
      "-X2 1\n",
      "Y2 0\n",
      "-Y2 0\n",
      "-X2, Y2, X2 1\n",
      "-X2, -Y2, X2 0\n",
      "X, Y2 1\n",
      "X, -Y2 1\n",
      "Y, X2 0\n",
      "Y, -X2 1\n",
      "X2, Y2, X2 0\n",
      "-X2, Y2, -X2 1\n"
     ]
    }
   ],
   "source": [
    "for i in range(len(C1_trans)):\n",
    "    \"\"\"\n",
    "    for each of the 24 single qubit Cliffords\n",
    "    get phase of multiplying X and Z gates via nonlinear phase update rowsum rule in Aaronson-Gottesman\n",
    "    verify that this phase is indeed the phase of Y\n",
    "    \"\"\"\n",
    "    phase = 1 + 2*C1_trans[i][0,2] + 2*C1_trans[i][2,2]\n",
    "    phase += gfunc(C1_trans[i][0,0], C1_trans[i][0,1], C1_trans[i][2,0], C1_trans[i][2,1])\n",
    "    phase = (phase % 4) // 2\n",
    "    if phase != C1_trans[i][1,2]:\n",
    "        raise Exception\n",
    "    print(C1_names[i], phase)"
   ]
  },
  {
   "cell_type": "code",
   "execution_count": 12,
   "metadata": {},
   "outputs": [
    {
     "name": "stdout",
     "output_type": "stream",
     "text": [
      "success\n"
     ]
    }
   ],
   "source": [
    "ref = allGens()\n",
    "for ind in range(len(allGates)):\n",
    "    \"\"\"\n",
    "    for each of the 11520 Clifford two qubit gates\n",
    "    verify that the transformation on each stabiliser can be generated from the four basis stabilisers\n",
    "    0001 (IZ), 0010 (ZI), 0100 (IX), 1000 (XI), modulo phase\n",
    "    phase bit is nolinear and can not be deduced from these basis elemets\n",
    "    \"\"\"\n",
    "    for row in range(16):\n",
    "        val = (ref[row,0] * allGates[ind][8,:-1] + \n",
    "               ref[row,1] * allGates[ind][4,:-1] +\n",
    "               ref[row,2] * allGates[ind][2,:-1] +\n",
    "               ref[row,3] * allGates[ind][1,:-1])\n",
    "        if np.sum((val - allGates[ind][row,:-1]) % 2) != 0:\n",
    "            raise Exception('bad')\n",
    "print('success')"
   ]
  },
  {
   "cell_type": "code",
   "execution_count": 13,
   "metadata": {},
   "outputs": [
    {
     "name": "stdout",
     "output_type": "stream",
     "text": [
      "success\n"
     ]
    }
   ],
   "source": [
    "for i in range(10000):\n",
    "    \"\"\"\n",
    "    check that there are no duplicate gates (probabilistically)\n",
    "    \"\"\"\n",
    "    a = choice(np.arange(len(allGates)))\n",
    "    b = choice(np.arange(len(allGates)))\n",
    "    if a != b:\n",
    "        if np.array_equal(allGates[a], allGates[b]):\n",
    "            raise Exception('bad')\n",
    "print('success')"
   ]
  },
  {
   "cell_type": "code",
   "execution_count": null,
   "metadata": {},
   "outputs": [],
   "source": []
  },
  {
   "cell_type": "markdown",
   "metadata": {},
   "source": [
    "## Recover 4x4 unitary gate representation from GF2 action on stabilisers"
   ]
  },
  {
   "cell_type": "code",
   "execution_count": 3,
   "metadata": {},
   "outputs": [
    {
     "name": "stdout",
     "output_type": "stream",
     "text": [
      "11520\n",
      "11520\n"
     ]
    }
   ],
   "source": [
    "infile = open('allGates', 'rb')\n",
    "allGates = pickle.load(infile)\n",
    "infile.close()\n",
    "print(len(allGates))\n",
    "\n",
    "infile = open('dictClif', 'rb')\n",
    "dictClif = pickle.load(infile)\n",
    "infile.close()\n",
    "print(len(dictClif))"
   ]
  },
  {
   "cell_type": "code",
   "execution_count": 6,
   "metadata": {},
   "outputs": [
    {
     "data": {
      "application/vnd.jupyter.widget-view+json": {
       "model_id": "c42d36008b444fc7bd80b29ca939e79a",
       "version_major": 2,
       "version_minor": 0
      },
      "text/plain": [
       "HBox(children=(IntProgress(value=0, max=576), HTML(value='')))"
      ]
     },
     "metadata": {},
     "output_type": "display_data"
    },
    {
     "name": "stdout",
     "output_type": "stream",
     "text": [
      "\n"
     ]
    }
   ],
   "source": [
    "for gate_ind in tqdm(range(10944,11520)):\n",
    "    \"\"\"\n",
    "    verify that gate as described by the decomp in dictClif matches that of the reconstructed unitary gate \n",
    "    \n",
    "    single: range(0, 576)\n",
    "    cnot: range(576, 5760)\n",
    "    iswap: range(5760,10944)\n",
    "    swap: range(10944,11520) \n",
    "    \"\"\"\n",
    "    decomp = dictClif[gate_ind]\n",
    "    gate = decompToUni(decomp)\n",
    "\n",
    "    pre = allGens()\n",
    "    post = allGates[gate_ind]\n",
    "\n",
    "    for i in range(len(pre)):\n",
    "        stab_pre = stabBinToUni_2(pre[i])\n",
    "        stab_post = stabBinToUni_2(post[i])\n",
    "        if not np.array_equal(stab_post, np.round(gate @ stab_pre @ gate.H, 0)):\n",
    "            print(i)\n",
    "            raise Exception()"
   ]
  },
  {
   "cell_type": "code",
   "execution_count": null,
   "metadata": {},
   "outputs": [],
   "source": []
  },
  {
   "cell_type": "markdown",
   "metadata": {},
   "source": [
    "# Characterising gates"
   ]
  },
  {
   "cell_type": "markdown",
   "metadata": {},
   "source": [
    "For the CZ gate\n",
    "\n",
    "We can verify that for the basis elements\n",
    "\n",
    "$$ X \\otimes I \\rightarrow X \\otimes X $$\n",
    "$$ I \\otimes X \\rightarrow Z \\otimes X $$\n",
    "$$ Z \\otimes I \\rightarrow Z \\otimes I $$\n",
    "$$ I \\otimes Z \\rightarrow I \\otimes Z $$\n",
    "\n",
    "This implies (and is verified)\n",
    "\n",
    "$$ X \\otimes X \\rightarrow Y \\otimes Y $$\n",
    "$$ Z \\otimes Z \\rightarrow Z \\otimes Z $$\n",
    "$$ Y \\otimes I \\rightarrow Y \\otimes Z $$\n",
    "$$ I \\otimes Y \\rightarrow Z \\otimes Y $$\n",
    "\n",
    "$$ X \\otimes Y \\rightarrow -Y \\otimes X $$\n",
    "$$ Y \\otimes X \\rightarrow -X \\otimes Y $$\n",
    "\n",
    "We derive a tableau rule, for CZ between qubits a and b (a and b have symmetric roles uder this gate)\n",
    "\n",
    "$$ z_a \\rightarrow z_a \\oplus x_b $$\n",
    "$$ z_b \\rightarrow z_b \\oplus x_a $$\n",
    "$$ r \\rightarrow r \\oplus 1 $$ iff XY or YX\n",
    "$$ r \\rightarrow r $$ otherwise"
   ]
  },
  {
   "cell_type": "code",
   "execution_count": 8,
   "metadata": {},
   "outputs": [
    {
     "name": "stdout",
     "output_type": "stream",
     "text": [
      "[[ 1  0  0  0]\n",
      " [ 0  1  0  0]\n",
      " [ 0  0  1  0]\n",
      " [ 0  0  0 -1]]\n",
      "\n",
      "True\n",
      "True\n",
      "True\n"
     ]
    }
   ],
   "source": [
    "# USEFUL\n",
    "# control-Z is symmetric between the control and target bit\n",
    "\n",
    "print(cz)\n",
    "print()\n",
    "\n",
    "# apply(cz, np.kron(paulix, np.identity(2)), np.kron(paulix, pauliz));\n",
    "# apply(cz, np.kron(np.identity(2), paulix), np.kron(pauliz, paulix));\n",
    "# apply(cz, np.kron(pauliz, np.identity(2)), np.kron(pauliz, np.identity(2)));\n",
    "# apply(cz, np.kron(np.identity(2), pauliz), np.kron(np.identity(2), pauliz));\n",
    "\n",
    "# apply(cz, np.kron(np.identity(2), pauliy), np.kron(pauliz, pauliy));\n",
    "# apply(cz, np.kron(pauliy, np.identity(2)), np.kron(pauliy, pauliz));\n",
    "# apply(cz, np.kron(pauliy, pauliy), np.kron(paulix, paulix));\n",
    "\n",
    "apply(cz, np.kron(paulix, paulix), np.kron(pauliy, pauliy));\n",
    "# apply(cz, np.kron(pauliz, pauliz), np.kron(pauliz, pauliz));\n",
    "\n",
    "# apply(cz, np.kron(paulix, pauliz), np.kron(paulix, np.identity(2)));\n",
    "# apply(cz, np.kron(pauliy, pauliz), np.kron(pauliy, np.identity(2)));\n",
    "\n",
    "apply(cz, np.kron(paulix, pauliy), -np.kron(pauliy, paulix));\n",
    "apply(cz, np.kron(pauliy, paulix), -np.kron(paulix, pauliy));"
   ]
  },
  {
   "cell_type": "code",
   "execution_count": 7,
   "metadata": {},
   "outputs": [
    {
     "name": "stdout",
     "output_type": "stream",
     "text": [
      "True\n",
      "True\n",
      "True\n",
      "True\n",
      "False\n",
      "[[0.+0.j 0.+0.j 0.-1.j 0.+0.j]\n",
      " [0.+0.j 0.+0.j 0.+0.j 0.-1.j]\n",
      " [0.+1.j 0.+0.j 0.+0.j 0.+0.j]\n",
      " [0.+0.j 0.+1.j 0.+0.j 0.+0.j]]\n",
      "False\n",
      "[[0 0 0 1]\n",
      " [0 0 1 0]\n",
      " [0 1 0 0]\n",
      " [1 0 0 0]]\n",
      "False\n",
      "[[ 0.+0.j  0.+0.j  0.+0.j -1.+0.j]\n",
      " [ 0.+0.j  0.+0.j  1.+0.j  0.+0.j]\n",
      " [ 0.+0.j  1.+0.j  0.+0.j  0.+0.j]\n",
      " [-1.+0.j  0.+0.j  0.+0.j  0.+0.j]]\n",
      "False\n",
      "[[0.+0.j 0.+0.j 0.+0.j 0.-1.j]\n",
      " [0.+0.j 0.+0.j 0.+1.j 0.+0.j]\n",
      " [0.+0.j 0.-1.j 0.+0.j 0.+0.j]\n",
      " [0.+1.j 0.+0.j 0.+0.j 0.+0.j]]\n"
     ]
    }
   ],
   "source": [
    "# verify action of swap class of two-qubit gates\n",
    "# in implementation, expressed at composition of CZ and single qubits\n",
    "\n",
    "apply(swap, np.kron(paulix, np.identity(2)), np.kron(np.identity(2), paulix));\n",
    "apply(swap, np.kron(np.identity(2), paulix), np.kron(paulix, np.identity(2)));\n",
    "apply(swap, np.kron(pauliz, np.identity(2)), np.kron(np.identity(2), pauliz));\n",
    "apply(swap, np.kron(np.identity(2), pauliz), np.kron(pauliz, np.identity(2)));\n",
    "\n",
    "apply(swap, np.kron(np.identity(2), pauliy), np.kron(pauliz, pauliy));\n",
    "apply(swap, np.kron(paulix, paulix), np.kron(paulix, np.identity(2)));\n",
    "apply(swap, np.kron(pauliy, pauliy), -np.kron(paulix, pauliz));\n",
    "apply(swap, np.kron(pauliy, paulix), np.kron(pauliy, np.identity(2)));"
   ]
  },
  {
   "cell_type": "code",
   "execution_count": 10,
   "metadata": {},
   "outputs": [
    {
     "name": "stdout",
     "output_type": "stream",
     "text": [
      "[[ 1.  0.  0.  0.]\n",
      " [ 0. -1.  0.  0.]\n",
      " [ 0.  0. -1.  0.]\n",
      " [ 0.  0.  0.  1.]]\n",
      "True\n",
      "[[ 0  0  0  1]\n",
      " [ 0  0 -1  0]\n",
      " [ 0 -1  0  0]\n",
      " [ 1  0  0  0]]\n",
      "True\n",
      "[[ 0.+0.j  0.+0.j  0.+0.j  0.-1.j]\n",
      " [ 0.+0.j  0.+0.j  0.+1.j  0.+0.j]\n",
      " [ 0.+0.j  0.-1.j  0.+0.j  0.+0.j]\n",
      " [ 0.+1.j  0.+0.j  0.+0.j  0.+0.j]]\n",
      "True\n",
      "[[ 1  0  0  0]\n",
      " [ 0 -1  0  0]\n",
      " [ 0  0  1  0]\n",
      " [ 0  0  0 -1]]\n",
      "True\n",
      "[[ 0  1  0  0]\n",
      " [ 1  0  0  0]\n",
      " [ 0  0  0 -1]\n",
      " [ 0  0 -1  0]]\n",
      "True\n"
     ]
    }
   ],
   "source": [
    "# verify action of cnot class of two-qubit gates\n",
    "# in implementation, expressed at composition of CZ and single qubits\n",
    "\n",
    "# apply(cnot, np.kron(paulix, np.identity(2)), np.kron(paulix, paulix));\n",
    "# apply(cnot, np.kron(np.identity(2), paulix), np.kron(np.identity(2), paulix));\n",
    "# apply(cnot, np.kron(pauliz, np.identity(2)), np.kron(pauliz, np.identity(2)));\n",
    "# apply(cnot, np.kron(np.identity(2), pauliz), np.kron(pauliz, pauliz));\n",
    "\n",
    "# apply(cnot, np.kron(np.identity(2), pauliy), np.kron(pauliz, pauliy));\n",
    "# apply(cnot, np.kron(paulix, paulix), np.kron(paulix, np.identity(2)));\n",
    "# apply(cnot, np.kron(pauliy, pauliy), -np.kron(paulix, pauliz));\n",
    "# apply(cnot, np.kron(pauliy, paulix), np.kron(pauliy, np.identity(2)));\n",
    "\n",
    "apply(cnot, np.kron(np.identity(2), pauliz), np.kron(pauliz, pauliz));\n",
    "apply(cnot, np.kron(paulix, pauliz), np.kron(-pauliy, pauliy));\n",
    "apply(cnot, np.kron(pauliy, pauliz), np.kron(paulix, pauliy));\n",
    "apply(cnot, np.kron(pauliz, pauliz), np.kron(np.identity(2), pauliz));\n",
    "\n",
    "apply(cnot, np.kron(pauliz, paulix), np.kron(pauliz, paulix));"
   ]
  },
  {
   "cell_type": "code",
   "execution_count": 130,
   "metadata": {},
   "outputs": [
    {
     "name": "stdout",
     "output_type": "stream",
     "text": [
      "X ->  Y\n",
      "Y ->  -X\n",
      "Z ->  Z\n",
      "X ->  Y\n",
      "Y ->  -X\n",
      "Z ->  Z\n"
     ]
    },
    {
     "data": {
      "text/plain": [
       "array([[1, 1, 0],\n",
       "       [1, 0, 1],\n",
       "       [0, 1, 0]])"
      ]
     },
     "execution_count": 130,
     "metadata": {},
     "output_type": "execute_result"
    }
   ],
   "source": [
    "# phase gate. r bit flip when both x and z are 1, i.e. Y -> NEGATIVE X, -Y -> NEGATIVE (-X)\n",
    "characterise(phase)\n",
    "# it is like -X2, Y2, X2\n",
    "characterise(C1_gens[C1_names.index('-X2, Y2, X2')])"
   ]
  },
  {
   "cell_type": "code",
   "execution_count": 129,
   "metadata": {},
   "outputs": [
    {
     "name": "stdout",
     "output_type": "stream",
     "text": [
      "X ->  Z\n",
      "Y ->  -Y\n",
      "Z ->  X\n",
      "X ->  Z\n",
      "Y ->  -Y\n",
      "Z ->  X\n"
     ]
    },
    {
     "data": {
      "text/plain": [
       "array([[0, 1, 0],\n",
       "       [1, 1, 1],\n",
       "       [1, 0, 0]])"
      ]
     },
     "execution_count": 129,
     "metadata": {},
     "output_type": "execute_result"
    }
   ],
   "source": [
    "# hadamard. r bit flip when both x and z are 1, i.e. Y -> NEGATIVE Y, -Y -> NEGATIVE (-Y)\n",
    "characterise(hadamard)\n",
    "# it is like X, -Y2\n",
    "characterise(C1_gens[C1_names.index('X, -Y2')])"
   ]
  },
  {
   "cell_type": "markdown",
   "metadata": {},
   "source": [
    "# Old simulation method: creates one of 11520 two-qubit cliffords each time "
   ]
  },
  {
   "cell_type": "code",
   "execution_count": 105,
   "metadata": {
    "collapsed": true,
    "jupyter": {
     "outputs_hidden": true
    }
   },
   "outputs": [],
   "source": [
    "def CZ(tab, a, b):\n",
    "    n = np.shape(tab)[1] // 2\n",
    "    xa = a\n",
    "    xb = b\n",
    "    za = n+a\n",
    "    zb = n+b\n",
    "    tab[:,za] = (tab[:,za] + tab[:,xb]) % 2\n",
    "    tab[:,zb] = (tab[:,zb] + tab[:,xa]) % 2\n",
    "    \n",
    "def C1(tab, a, gate_ind):\n",
    "    n = np.shape(tab)[1] // 2\n",
    "    xa = a\n",
    "    za = n+a\n",
    "    xs = np.copy(tab[:,xa])\n",
    "    zs = np.copy(tab[:,za])\n",
    "    r = 2*n\n",
    "    trans = C1_trans[gate_ind]\n",
    "    tab[:,r] = (tab[:,r] + \n",
    "                xs * ((zs + 1) % 2) * trans[0,2] + \n",
    "                xs * zs * trans[1,2] + \n",
    "                ((xs + 1) % 2) * zs * trans[2,2]) % 2\n",
    "    tab[:,xa] = (xs * trans[0,0] + zs * trans[2,0]) % 2\n",
    "    tab[:,za] = (xs * trans[0,1] + zs * trans[2,1]) % 2\n",
    "    \n",
    "def singleClass(tab, a, b):\n",
    "    C1(tab, a, choice(np.arange(24)))\n",
    "    C1(tab, b, choice(np.arange(24)))\n",
    "\n",
    "def cnotClass(tab, a, b):\n",
    "    C1(tab, a, choice(np.arange(24)))\n",
    "    C1(tab, b, choice(np.arange(24)))\n",
    "    CZ(tab, a, b)\n",
    "    C1(tab, a, choice(S1_ind))\n",
    "    C1(tab, b, choice(S1y_ind))\n",
    "    \n",
    "def iswapClass(tab, a, b):\n",
    "    C1(tab, a, choice(np.arange(24)))\n",
    "    C1(tab, b, choice(np.arange(24)))\n",
    "    CZ(tab, a, b)\n",
    "    C1(tab, a, C1_names.index('Y2'))\n",
    "    C1(tab, b, C1_names.index('-X2'))\n",
    "    CZ(tab, a, b)\n",
    "    C1(tab, a, choice(S1y_ind))\n",
    "    C1(tab, b, choice(S1x_ind))\n",
    "    \n",
    "def swapClass(tab, a, b):\n",
    "    C1(tab, a, choice(np.arange(24)))\n",
    "    C1(tab, b, choice(np.arange(24)))\n",
    "    CZ(tab, a, \n",
    "    C1(tab, a, C1_names.index('-Y2'))\n",
    "    C1(tab, b, C1_names.index('Y2'))\n",
    "    CZ(tab, a, b)\n",
    "    C1(tab, a, C1_names.index('Y2'))\n",
    "    C1(tab, b, C1_names.index('-Y2'))\n",
    "    CZ(tab, a, b)\n",
    "    C1(tab, b, C1_names.index('Y2'))\n",
    "\n",
    "# random two-qubit Clifford gate applied to a,b\n",
    "# single qubit class has 576, CNOT class has 5184, iSWAP class 5184, SWAP class has 576, total: 11520\n",
    "def randGate(tab, a, b):\n",
    "    prob_distrib = np.array([576, 5184, 5184, 576])/11520\n",
    "    draw = choice(np.arange(4), p=prob_distrib)\n",
    "    if draw == 0:\n",
    "        singleClass(tab, a, b)\n",
    "    elif draw == 1:\n",
    "        cnotClass(tab, a, b)\n",
    "    elif draw == 2:\n",
    "        iswapClass(tab, a, b)\n",
    "    elif draw == 3:\n",
    "        swapClass(tab, a, b)\n",
    "    else:\n",
    "        raise Exception('randGate invalid class') "
   ]
  },
  {
   "cell_type": "code",
   "execution_count": 22,
   "metadata": {},
   "outputs": [
    {
     "ename": "NameError",
     "evalue": "name 'initTab' is not defined",
     "output_type": "error",
     "traceback": [
      "\u001b[0;31m---------------------------------------------------------------------------\u001b[0m",
      "\u001b[0;31mNameError\u001b[0m                                 Traceback (most recent call last)",
      "\u001b[0;32m<ipython-input-22-8f424cf902ad>\u001b[0m in \u001b[0;36m<module>\u001b[0;34m\u001b[0m\n\u001b[1;32m     22\u001b[0m \u001b[0;34m\u001b[0m\u001b[0m\n\u001b[1;32m     23\u001b[0m \u001b[0;34m\u001b[0m\u001b[0m\n\u001b[0;32m---> 24\u001b[0;31m \u001b[0mtab\u001b[0m \u001b[0;34m=\u001b[0m \u001b[0minitTab\u001b[0m\u001b[0;34m(\u001b[0m\u001b[0;36m2\u001b[0m\u001b[0;34m)\u001b[0m\u001b[0;34m\u001b[0m\u001b[0m\n\u001b[0m\u001b[1;32m     25\u001b[0m \u001b[0mprint\u001b[0m\u001b[0;34m(\u001b[0m\u001b[0mtab\u001b[0m\u001b[0;34m)\u001b[0m\u001b[0;34m\u001b[0m\u001b[0m\n\u001b[1;32m     26\u001b[0m \u001b[0mprint\u001b[0m\u001b[0;34m(\u001b[0m\u001b[0;34m)\u001b[0m\u001b[0;34m\u001b[0m\u001b[0m\n",
      "\u001b[0;31mNameError\u001b[0m: name 'initTab' is not defined"
     ]
    }
   ],
   "source": [
    "# for debugging, define some deterministic gates of each class\n",
    "\n",
    "def singleClassDet(tab, a, b, ind1, ind2):\n",
    "    if (ind1 < 0) or (ind1 > 23) or (ind2 < 0) or (ind2 > 23):\n",
    "        raise Exception('invalid inputs')\n",
    "    C1(tab, a, ind1)\n",
    "    C1(tab, b, ind2)\n",
    "\n",
    "def swapClassDet(tab, a, b, ind1, ind2):\n",
    "    if (ind1 < 0) or (ind1 > 23) or (ind2 < 0) or (ind2 > 23):\n",
    "        raise Exception('invalid inputs')\n",
    "    C1(tab, a, ind1)\n",
    "    C1(tab, b, ind2)\n",
    "    CZ(tab, a, b)\n",
    "    C1(tab, a, C1_names.index('-Y2'))\n",
    "    C1(tab, b, C1_names.index('Y2'))\n",
    "    CZ(tab, a, b)\n",
    "    C1(tab, a, C1_names.index('Y2'))\n",
    "    C1(tab, b, C1_names.index('-Y2'))\n",
    "    CZ(tab, a, b)\n",
    "    C1(tab, b, C1_names.index('Y2'))\n",
    "\n",
    "\n",
    "tab = initTab(2)\n",
    "print(tab)\n",
    "print()\n",
    "singleClassDet(tab, 0, 1, 3, 5)\n",
    "print(tab)\n",
    "print()\n",
    "singleClassDet(tab, 0, 1, 3, 5)\n",
    "print(tab)\n",
    "print()\n"
   ]
  },
  {
   "cell_type": "code",
   "execution_count": null,
   "metadata": {},
   "outputs": [],
   "source": [
    "# random two-qubit Clifford gate applied to a,b\n",
    "# single qubit class has 576, CNOT class has 5184, iSWAP class 5184, SWAP class has 576, total: 11520\n",
    "\n",
    "def randGate(tab, a, b):\n",
    "    prob_distrib = np.array([576, 5184, 5184, 576])/11520\n",
    "    draw = np.random.choice(np.arange(4), p=prob_distrib)\n",
    "    \n",
    "    i = choice(np.arange(24))\n",
    "    j = choice(np.arange(24))\n",
    "    k = None\n",
    "    l = None\n",
    "\n",
    "    if draw == 0: # single qubit class\n",
    "        C1(tab,a,i)\n",
    "        C1(tab,b,j)\n",
    "    elif draw == 1: # cnot class\n",
    "        k = choice(S1_ind)\n",
    "        l = choice(S1y_ind)\n",
    "        C1(tab, a, i)\n",
    "        C1(tab, b, j)\n",
    "        CZ(tab, a, b)\n",
    "        C1(tab, a, k)\n",
    "        C1(tab, b, j)\n",
    "    elif draw == 2: # iswap class\n",
    "        k = choice(S1y_ind)\n",
    "        l = choice(S1x_ind)\n",
    "        C1(tab, a, i)\n",
    "        C1(tab, b, j)\n",
    "        CZ(tab, a, b)\n",
    "        C1(tab, a, C1_names.index('Y2'))\n",
    "        C1(tab, b, C1_names.index('-X2'))\n",
    "        CZ(tab, a, b)\n",
    "        C1(tab, a, k)\n",
    "        C1(tab, b, l)\n",
    "    elif draw == 3: # swap class\n",
    "        C1(tab, a, i)\n",
    "        C1(tab, b, j)\n",
    "        CZ(tab, a, b)\n",
    "        C1(tab, a, C1_names.index('-Y2'))\n",
    "        C1(tab, b, C1_names.index('Y2'))\n",
    "        CZ(tab, a, b)\n",
    "        C1(tab, a, C1_names.index('Y2'))\n",
    "        C1(tab, b, C1_names.index('-Y2'))\n",
    "        CZ(tab, a, b)\n",
    "        C1(tab, b, C1_names.index('Y2'))\n",
    "    else:\n",
    "        raise Exception('randGate invalid class') \n",
    "    return draw,i,j,k,l"
   ]
  },
  {
   "cell_type": "markdown",
   "metadata": {},
   "source": [
    "# Not needed for this application"
   ]
  },
  {
   "cell_type": "code",
   "execution_count": 8,
   "metadata": {},
   "outputs": [],
   "source": [
    "# c, h, p generator gates by simplified tableau rules (not necessary)\n",
    "\n",
    "cnot = np.matrix([[1,0,0,0],[0,1,0,0],[0,0,0,1],[0,0,1,0]])\n",
    "hadamard = 1/np.sqrt(2) * np.matrix([[1,1],[1,-1]])\n",
    "phase = np.matrix([[1,0],[0,1j]])\n",
    "swap = np.matrix([[1,0,0,0],[0,0,1,0],[0,1,0,0],[0,0,0,1]])\n",
    "iswap = np.matrix([[1,0,0,0],[0,0,1j,0],[0,1j,0,0],[0,0,0,1]])"
   ]
  },
  {
   "cell_type": "code",
   "execution_count": null,
   "metadata": {},
   "outputs": [],
   "source": [
    "def c_gate(tab, a, b):\n",
    "    n = np.shape(tab)[1] // 2\n",
    "    xa = a\n",
    "    xb = b\n",
    "    za = n+a\n",
    "    zb = n+b\n",
    "    r = 2*n\n",
    "    tab[:,r] = (tab[:,r] + tab[:,xa] * tab[:,zb] * ((tab[:,xb] + tab[:,za] + 1) % 2)) % 2\n",
    "    tab[:,xb] = (tab[:,xb] + tab[:,xa]) % 2\n",
    "    tab[:,za] = (tab[:,za] + tab[:,zb]) % 2\n",
    "\n",
    "    \n",
    "def h_gate(tab, a):\n",
    "    n = np.shape(tab)[1] // 2\n",
    "    xa = a\n",
    "    za = n+a\n",
    "    r = 2*n\n",
    "    tab[:,r] = (tab[:,r] + (tab[:,xa] * tab[:,za])) % 2\n",
    "    temp = np.copy(tab[:, xa])\n",
    "    tab[:,xa] = tab[:, za]\n",
    "    tab[:,za] = temp\n",
    "\n",
    "    \n",
    "def p_gate(tab, a):\n",
    "    n = np.shape(tab)[1] // 2\n",
    "    xa = a\n",
    "    za = n+a\n",
    "    r = 2*n\n",
    "    tab[:,r] = (tab[:,r] + (tab[:,xa] * tab[:,za])) % 2\n",
    "    tab[:,za] = (tab[:,za] + tab[:,xa]) % 2"
   ]
  }
 ],
 "metadata": {
  "kernelspec": {
   "display_name": "Python 3",
   "language": "python",
   "name": "python3"
  },
  "language_info": {
   "codemirror_mode": {
    "name": "ipython",
    "version": 3
   },
   "file_extension": ".py",
   "mimetype": "text/x-python",
   "name": "python",
   "nbconvert_exporter": "python",
   "pygments_lexer": "ipython3",
   "version": "3.7.4"
  }
 },
 "nbformat": 4,
 "nbformat_minor": 4
}
