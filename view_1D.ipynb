{
 "cells": [
  {
   "cell_type": "code",
   "execution_count": 1,
   "metadata": {},
   "outputs": [],
   "source": [
    "import numpy as np\n",
    "import time\n",
    "from numpy.random import choice\n",
    "from random import random\n",
    "import pickle\n",
    "import matplotlib.pyplot as plt\n",
    "from tqdm.auto import tqdm"
   ]
  },
  {
   "cell_type": "markdown",
   "metadata": {},
   "source": [
    "need to measure then entangle for these one or two point probes?\n",
    "measure, then Bell pair (hadamard and CNOT)\n",
    "measure, then CNOT"
   ]
  },
  {
   "cell_type": "markdown",
   "metadata": {},
   "source": [
    "# one-point order parameter"
   ]
  },
  {
   "cell_type": "code",
   "execution_count": 8,
   "metadata": {},
   "outputs": [],
   "source": [
    "import matplotlib as mpl\n",
    "# https://matplotlib.org/3.1.0/tutorials/colors/colormaps.html\n",
    "# https://matplotlib.org/3.1.0/tutorials/colors/colormaps.html\n",
    "# plt.rcParams[\"axes.prop_cycle\"] = plt.cycler(\"color\", plt.cm.Dark2.colors)"
   ]
  },
  {
   "cell_type": "code",
   "execution_count": null,
   "metadata": {},
   "outputs": [],
   "source": [
    "L = 32\n",
    "# ps1 = [0.05, 0.1, 0.12, 0.13, 0.14, 0.145, 0.15, 0.155, 0.16, 0.165, 0.17, 0.175, 0.18, 0.19, 0.2, 0.25]  \n",
    "# ps2 = [0.152, 0.154, 0.156, 0.158, 0.162, 0.164, 0.166, 0.168]\n",
    "# ps = np.sort(ps1+ps2)\n",
    "ps = [0.05, 0.1, 0.12, 0.13, 0.14, 0.145, 0.15, 0.155, 0.16, 0.165, 0.17, 0.175, 0.18, 0.19, 0.2, 0.25] \n",
    "ps = [0.05, 0.1, 0.12, 0.13, 0.14, 0.15, 0.16, 0.17, 0.18, 0.19, 0.2, 0.25] \n",
    "\n",
    "refAs_fin = np.empty(len(ps))\n",
    "\n",
    "plt.figure(figsize=(9,6))\n",
    "\n",
    "for i in range(len(ps)):\n",
    "    infile = open('probe_1pt/L' + str(L) + '_p' + str(ps[i]), 'rb')\n",
    "    refAs = pickle.load(infile)\n",
    "    #print(refAs.shape)\n",
    "    refAs_fin[i] = np.mean(refAs, axis=0)[-1]\n",
    "    plt.plot(np.mean(refAs, axis=0))\n",
    "plt.legend(ps)\n",
    "plt.xlabel('timestep', fontsize=12)\n",
    "plt.ylabel(r'$\\langle S_{probe} \\rangle$', fontsize=12)\n",
    "plt.xticks(np.arange(0,2*L,10), np.arange(0,L,5))\n",
    "# plt.savefig('fig_probe1pt_L32.pdf')\n",
    "plt.show()\n",
    "\n",
    "refAs_fin32 = refAs_fin"
   ]
  },
  {
   "cell_type": "code",
   "execution_count": null,
   "metadata": {},
   "outputs": [],
   "source": [
    "L = 64\n",
    "# ps1 = [0.05, 0.1, 0.12, 0.13, 0.14, 0.145, 0.15, 0.155, 0.16, 0.165, 0.17, 0.175, 0.18, 0.19, 0.2, 0.25]  \n",
    "# ps2 = [0.152, 0.154, 0.156, 0.158, 0.162, 0.164, 0.166, 0.168]\n",
    "# ps = np.sort(ps1+ps2)\n",
    "ps = [0.05, 0.1, 0.12, 0.13, 0.14, 0.15, 0.16, 0.17, 0.18, 0.19, 0.2, 0.25] \n",
    "\n",
    "refAs_fin = np.empty(len(ps))\n",
    "\n",
    "plt.figure(figsize=(9,6))\n",
    "\n",
    "for i in range(len(ps)):\n",
    "    infile = open('probe_1pt/L' + str(L) + '_p' + str(ps[i]), 'rb')\n",
    "    refAs = pickle.load(infile)\n",
    "    #print(refAs.shape)\n",
    "    refAs_fin[i] = np.mean(refAs, axis=0)[-1]\n",
    "    plt.plot(np.mean(refAs, axis=0))\n",
    "plt.legend(ps)\n",
    "plt.xlabel('timestep', fontsize=12)\n",
    "plt.ylabel(r'$\\langle S_{probe} \\rangle$', fontsize=12)\n",
    "plt.xticks(np.arange(0,2*L,10), np.arange(0,L,5))\n",
    "# plt.savefig('fig_probe1pt_L64.pdf')\n",
    "plt.show()\n",
    "\n",
    "refAs_fin64 = refAs_fin"
   ]
  },
  {
   "cell_type": "code",
   "execution_count": null,
   "metadata": {},
   "outputs": [],
   "source": [
    "L = 128\n",
    "# leave out 0.155?\n",
    "# ps1 = [0.05, 0.1, 0.12, 0.13, 0.14, 0.145, 0.15, 0.16, 0.165, 0.17, 0.175, 0.18, 0.19, 0.2, 0.25]  \n",
    "# ps2 = [0.152, 0.154, 0.156, 0.158, 0.162, 0.164, 0.166, 0.168]\n",
    "# ps128 = np.sort(ps1+ps2)\n",
    "ps = [0.05, 0.1, 0.12, 0.13, 0.14, 0.15, 0.16, 0.17, 0.18, 0.19, 0.2, 0.25] \n",
    "\n",
    "refAs_fin = np.empty(len(ps))\n",
    "\n",
    "plt.figure(figsize=(9,6))\n",
    "\n",
    "for i in range(len(ps)):\n",
    "    infile = open('probe_1pt/L' + str(L) + '_p' + str(ps[i]), 'rb')\n",
    "    refAs = pickle.load(infile)\n",
    "    #print(refAs.shape)\n",
    "    refAs_fin[i] = np.mean(refAs, axis=0)[-1]\n",
    "    plt.plot(np.mean(refAs, axis=0))\n",
    "plt.legend(ps)\n",
    "plt.xlabel('timestep', fontsize=12)\n",
    "plt.ylabel(r'$\\langle S_{probe} \\rangle$', fontsize=12)\n",
    "plt.xticks(np.arange(0,2*L,20), np.arange(0,L,10))\n",
    "\n",
    "# plt.savefig('fig_probe1pt_L128.pdf')\n",
    "\n",
    "refAs_fin128 = refAs_fin\n",
    "ps128 = ps"
   ]
  },
  {
   "cell_type": "code",
   "execution_count": null,
   "metadata": {},
   "outputs": [],
   "source": [
    "import matplotlib as mpl\n",
    "# https://matplotlib.org/3.1.0/tutorials/colors/colormaps.html\n",
    "# https://matplotlib.org/3.1.0/tutorials/colors/colormaps.html\n",
    "plt.rcParams[\"axes.prop_cycle\"] = plt.cycler(\"color\", plt.cm.Dark2.colors)\n",
    "plt.figure(figsize=(9,6))\n",
    "linewidth = 2\n",
    "markersize = 10\n",
    "plt.plot(ps, refAs_fin32, '.-', linewidth=linewidth, markersize=markersize)\n",
    "plt.plot(ps, refAs_fin64, '.-', linewidth=linewidth, markersize=markersize)\n",
    "plt.plot(ps128, refAs_fin128, '.-', linewidth=linewidth, markersize=markersize)\n",
    "plt.axvline(x=0.158, linestyle='--', color='k', alpha=0.5, linewidth=linewidth)\n",
    "plt.xlabel('p', fontsize=16)\n",
    "plt.ylabel(r'$\\langle S_{probe} \\rangle$', fontsize=16)\n",
    "plt.legend(['L=32', 'L=64', 'L=128'], fontsize=16)\n",
    "# plt.savefig('fig_probe1pt.pdf')"
   ]
  },
  {
   "cell_type": "code",
   "execution_count": null,
   "metadata": {},
   "outputs": [],
   "source": []
  },
  {
   "cell_type": "markdown",
   "metadata": {},
   "source": [
    "# two-point correlation"
   ]
  },
  {
   "cell_type": "code",
   "execution_count": 39,
   "metadata": {},
   "outputs": [],
   "source": [
    "L = 128\n",
    "ps = [0.14, 0.15, 0.17, 0.18, 0.25, 0.3]\n",
    "\n",
    "reps = 10\n",
    "for i in range(len(ps)):\n",
    "    data_agg = np.empty((3,0,8*L))\n",
    "    for j in range(reps):\n",
    "        infile = open('temp4/L' + str(L) + '_p' + str(ps[i]) + '_rep' + str(j+1), 'rb')\n",
    "        data = np.array(pickle.load(infile))\n",
    "        infile.close()\n",
    "        data_agg = np.hstack((data_agg, data))\n",
    "    print(data_agg.shape)\n",
    "    outfile = open('temp4/L' + str(L) + '_p' + str(ps[i]), 'wb')\n",
    "    pickle.dump(data_agg, outfile)\n",
    "    outfile.close()"
   ]
  },
  {
   "cell_type": "code",
   "execution_count": null,
   "metadata": {},
   "outputs": [],
   "source": [
    "L = 128\n",
    "# ps = [0.05, 0.1, 0.14, 0.15, 0.16, 0.17, 0.18, 0.2, 0.25, 0.3, 0.35]\n",
    "ps = [0.05, 0.1, 0.14, 0.15, 0.16, 0.17, 0.18, 0.2, 0.25, 0.3]\n",
    "\n",
    "directory = 'probe_2pt'\n",
    "plt.figure(figsize=(10,6))\n",
    "for p in ps:\n",
    "    infile = open(directory + '/L' + str(L) + '_p' + str(p), 'rb')\n",
    "    refAs, refBs, refABs = pickle.load(infile)\n",
    "    infile.close()    \n",
    "    plt.plot(np.mean(refAs + refBs - refABs, axis=0)[:2*L])\n",
    "plt.legend(ps)\n",
    "plt.xlabel('timestep')\n",
    "# plt.xticks(np.arange(L), np.arange(L))\n",
    "plt.title('mutual information of two-point probe vs. time, L=' + str(L))"
   ]
  },
  {
   "cell_type": "code",
   "execution_count": null,
   "metadata": {},
   "outputs": [],
   "source": [
    "L = 64\n",
    "ps = [0.05, 0.1, 0.14, 0.15, 0.16, 0.17, 0.18, 0.2, 0.25, 0.3, 0.35]\n",
    "\n",
    "directory = 'probe_2pt'\n",
    "plt.figure(figsize=(10,6))\n",
    "for p in ps:\n",
    "    infile = open(directory + '/L' + str(L) + '_p' + str(p), 'rb')\n",
    "    refAs, refBs, refABs = pickle.load(infile)\n",
    "    infile.close()\n",
    "    plt.plot(np.mean(refAs + refBs - refABs, axis=0)[:2*L])\n",
    "plt.legend(ps)\n",
    "plt.xlabel('timestep')\n",
    "plt.title('mutual information of two-point probe vs. time, L=' + str(L))"
   ]
  },
  {
   "cell_type": "code",
   "execution_count": null,
   "metadata": {},
   "outputs": [],
   "source": [
    "L = 32\n",
    "ps = [0.05, 0.1, 0.14, 0.15, 0.16, 0.17, 0.18, 0.2, 0.25, 0.3, 0.35]\n",
    "# ps = [0.05, 0.1, 0.15, 0.2, 0.25, 0.3, 0.35]\n",
    "\n",
    "directory = 'probe_2pt'\n",
    "plt.figure(figsize=(10,6))\n",
    "for p in ps:\n",
    "    infile = open(directory + '/L' + str(L) + '_p' + str(p), 'rb')\n",
    "    refAs, refBs, refABs = pickle.load(infile)\n",
    "    infile.close()\n",
    "    #plt.plot(np.mean(refAs + refBs - refABs, axis=0)[:2*L])\n",
    "    plt.plot(np.mean(refAs + refBs - refABs, axis=0))\n",
    "plt.legend(ps)\n",
    "plt.xlabel('timestep')\n",
    "plt.title('mutual information of two-point probe vs. time, L=' + str(L))"
   ]
  },
  {
   "cell_type": "code",
   "execution_count": null,
   "metadata": {},
   "outputs": [],
   "source": []
  },
  {
   "cell_type": "markdown",
   "metadata": {},
   "source": [
    "# tripartite mutual info"
   ]
  },
  {
   "cell_type": "code",
   "execution_count": null,
   "metadata": {},
   "outputs": [],
   "source": [
    "reps = 10\n",
    "L = 32\n",
    "directory = 'tmi_wide'\n",
    "\n",
    "ps = np.arange(0.0,0.25,0.01)\n",
    "data_agg = np.empty((len(ps),0,2))\n",
    "# data_agg = np.empty((len(ps),0))\n",
    "\n",
    "for i in range(reps):\n",
    "    infile = open(directory + '/tmi_L' + str(L) + '_rep' + str(i+1), 'rb')\n",
    "    data = pickle.load(infile)\n",
    "    infile.close()\n",
    "    data_agg = np.hstack((data_agg, data))\n",
    "\n",
    "print(data_agg.shape)\n",
    "\n",
    "outfile = open(directory + '/tmi_L' + str(L), 'wb')\n",
    "pickle.dump(data_agg, outfile)\n",
    "\n",
    "outfile.close()"
   ]
  },
  {
   "cell_type": "code",
   "execution_count": null,
   "metadata": {},
   "outputs": [],
   "source": [
    "directory = 'tmi_nearpc' # average after second last gates and last gates\n",
    "Ls = [16,20,32,48]\n",
    "\n",
    "fig, (ax1, ax2) = plt.subplots(1, 2, figsize=(14,5))\n",
    "ps = np.arange(0.13,0.19,0.0025)\n",
    "\n",
    "# there is not much difference between estimate after the last layer of gates and after the second last\n",
    "# last layer of gates. this is because we only studied divisible by 4 system sizes for which every tripartite \n",
    "# cut goes through the same kind of geometry\n",
    "# however, measuring after the last layer of gates vs. last layer of measurements is significant\n",
    "\n",
    "pc = 0.157\n",
    "nu = 1.2\n",
    "\n",
    "for L in Ls:\n",
    "    \n",
    "    infile = open(directory + '/tmi_L' + str(L), 'rb')\n",
    "    data = pickle.load(infile)\n",
    "    infile.close()\n",
    "    print(data.shape)\n",
    "    \n",
    "    ax1.plot(ps, np.mean(np.mean(data,axis=1),axis=1), '.-')\n",
    "    \n",
    "    ax2.plot((ps-pc)*L**(1/nu), np.mean(np.mean(data,axis=1),axis=1), '.')\n",
    "    \n",
    "    if L==24:\n",
    "        data24 = data.copy()\n",
    "\n",
    "ax1.axvline(x=pc, color='k', linestyle='--', alpha=0.7)\n",
    "ax1.legend(Ls)\n",
    "ax1.set_xlabel(r'p')\n",
    "ax1.set_ylabel(r'$I_3(A:B:C)$')\n",
    "ax2.legend(Ls)\n",
    "ax2.set_xlabel(r'$(p-p_c)L^{1/\\nu}$')\n",
    "ax2.set_ylabel(r'$I_3(A:B:C)$')\n",
    "\n",
    "ax1.legend([1,2,3,4])\n",
    "\n",
    "# plt.savefig('fig_tmi_near.pdf')"
   ]
  },
  {
   "cell_type": "code",
   "execution_count": null,
   "metadata": {},
   "outputs": [],
   "source": [
    "# widerange\n",
    "\n",
    "ps = np.arange(0,0.25,0.01)\n",
    "plt.figure(figsize=(7,5))\n",
    "plt.rcParams.update({'font.size': 12})\n",
    "\n",
    "directory = 'tmi_wide'\n",
    "Ls = [16,20,24,32]\n",
    "\n",
    "pc = 0.158\n",
    "nu = 1.5\n",
    "    \n",
    "for L in Ls:\n",
    "    \n",
    "    infile = open(directory + '/tmi_L' + str(L), 'rb')\n",
    "    data = pickle.load(infile)\n",
    "    infile.close()\n",
    "    print(data.shape)\n",
    "    \n",
    "    plt.plot(ps, np.mean(np.mean(data,axis=1),axis=1), '.-')\n",
    "\n",
    "plt.legend(Ls)\n",
    "plt.xlabel(r'p')\n",
    "plt.ylabel(r'$I_3(A:B:C)$')\n",
    "\n",
    "plt.savefig('fig_tmi_wide.pdf')"
   ]
  },
  {
   "cell_type": "code",
   "execution_count": null,
   "metadata": {},
   "outputs": [],
   "source": [
    "# widerange\n",
    "\n",
    "ps = np.arange(0,0.25,0.01)\n",
    "fig, (ax1, ax2) = plt.subplots(1, 2, figsize=(14,5))\n",
    "\n",
    "# directory = 'clutter/tmi_1d_aftergates_rerun'\n",
    "# Ls = [12,16,20,24,32]\n",
    "\n",
    "# directory = 'clutter/tmi_widerange'\n",
    "# Ls = [12,16,20]\n",
    "\n",
    "directory = 'tmi_wide'\n",
    "Ls = [16,20,24,32]\n",
    "\n",
    "pc = 0.158\n",
    "nu = 1.5\n",
    "    \n",
    "for L in Ls:\n",
    "    \n",
    "    infile = open(directory + '/tmi_L' + str(L), 'rb')\n",
    "    data = pickle.load(infile)\n",
    "    infile.close()\n",
    "    print(data.shape)\n",
    "    \n",
    "    ax1.plot(ps, np.mean(np.mean(data,axis=1),axis=1), '.-')\n",
    "    \n",
    "    ax2.plot((ps-pc)*L**(1/nu), np.mean(np.mean(data,axis=1),axis=1), '.')\n",
    "\n",
    "ax1.legend(Ls)\n",
    "ax1.set_xlabel(r'p')\n",
    "ax1.set_ylabel('TMI')\n",
    "ax2.legend(Ls)\n",
    "ax2.set_xlabel(r'$(p-p_c)L^{1/\\nu}$')\n",
    "ax2.set_ylabel('TMI')\n",
    "\n",
    "# plt.savefig('fig_tmi_wide.pdf')"
   ]
  },
  {
   "cell_type": "code",
   "execution_count": 203,
   "metadata": {},
   "outputs": [],
   "source": [
    "from scipy import interpolate\n",
    "\n",
    "def closeness(x1, y1, x2):\n",
    "    tck = interpolate.splrep(x1, y1, s=0)\n",
    "    y2 = interpolate.splev(x2, tck, der=0)\n",
    "    return y2\n",
    "\n",
    "def fit_exp(ps, pc, nu, L1, L2, data1, data2):\n",
    "    x1 = (ps-pc)*L1**(1/nu)\n",
    "    x2 = (ps-pc)*L2**(1/nu)\n",
    "    y2 = closeness(x1, data1, x2)\n",
    "    return np.sum(np.square(data2-y2))\n",
    "\n",
    "pcs = np.arange(0.157, 0.16, 0.0002)\n",
    "nus = np.arange(1.52,1.8,0.02)\n",
    "\n",
    "diffs = np.zeros((len(pcs), len(nus)))\n",
    "\n",
    "for i in range(len(pcs)):\n",
    "    for j in range(len(nus)):\n",
    "        diffs[i,j] = fit_exp(ps, pcs[i], nus[j], 32, 24, np.mean(data,axis=1), np.mean(data24,axis=1))\n",
    "        "
   ]
  },
  {
   "cell_type": "code",
   "execution_count": null,
   "metadata": {},
   "outputs": [],
   "source": [
    "plt.figure(figsize=(20,5))\n",
    "plt.imshow(diffs)\n",
    "plt.xticks(np.arange(len(nus)), np.round(nus,2))\n",
    "plt.yticks(np.arange(len(pcs)), np.round(pcs,4))\n",
    "plt.colorbar()"
   ]
  },
  {
   "cell_type": "code",
   "execution_count": null,
   "metadata": {},
   "outputs": [],
   "source": [
    "xnew, ynew = closeness(ps, 24, np.mean(data,axis=1), 20, pc, nu)\n",
    "# plt.plot((ps-pc)*24**(1/nu), np.mean(data,axis=1), '.')\n",
    "plt.plot(xnew, ynew, '.')\n",
    "plt.plot(xnew, np.mean(data20,axis=1), '.')"
   ]
  },
  {
   "cell_type": "code",
   "execution_count": null,
   "metadata": {},
   "outputs": [],
   "source": []
  },
  {
   "cell_type": "markdown",
   "metadata": {},
   "source": [
    "# pbc  (single cut)"
   ]
  },
  {
   "cell_type": "code",
   "execution_count": 5,
   "metadata": {},
   "outputs": [],
   "source": [
    "L = 512\n",
    "ps = [0.0, 0.05, 0.1, 0.12, 0.14, 0.16, 0.18, 0.2, 0.25, 0.3]\n",
    "\n",
    "reps = 10\n",
    "for i in range(len(ps)):\n",
    "    data_agg = np.empty((0,L))\n",
    "    for j in range(reps):\n",
    "        infile = open('temp3/L' + str(L) + '_p' + str(ps[i]) + '_rep' + str(j+1), 'rb')\n",
    "        data = pickle.load(infile)\n",
    "        infile.close()\n",
    "        data_agg = np.vstack((data_agg, data))\n",
    "    print(data_agg.shape)\n",
    "    outfile = open('temp1/L' + str(L) + '_p' + str(ps[i]), 'wb')\n",
    "    pickle.dump(data_agg, outfile)\n",
    "    outfile.close()"
   ]
  },
  {
   "cell_type": "code",
   "execution_count": 2,
   "metadata": {},
   "outputs": [],
   "source": [
    "Ls = [8, 16, 32, 64, 128, 256, 512]\n",
    "ps = [0.0, 0.05, 0.1, 0.12, 0.14, 0.16, 0.18, 0.2, 0.25, 0.3]\n",
    "\n",
    "ents_1d = np.zeros((len(Ls), len(ps)), dtype='float64')\n",
    "#ents_1d_std = np.zeros((len(Ls), len(ps)), dtype='float64')\n",
    "for i in range(len(Ls)):\n",
    "    for j in range(len(ps)):\n",
    "        infile = open('ent_1d_pbc/L' + str(Ls[i]) + '_p' + str(ps[j]), 'rb')\n",
    "        ent = pickle.load(infile)\n",
    "        #print(Ls[i], ps[j], ent.shape)\n",
    "        infile.close()\n",
    "        ents_1d[i,j] = np.mean(np.mean(ent, axis=0)[-Ls[i]//6:])\n",
    "        #ents_1d_std[i,j] = np.std(np.mean(ent, axis=0)[-Ls[i]//6:])\n",
    "\n",
    "ents_1d_density = ents_1d / np.array(Ls)[:, None]"
   ]
  },
  {
   "cell_type": "code",
   "execution_count": null,
   "metadata": {
    "tags": []
   },
   "outputs": [],
   "source": [
    "import matplotlib as mpl\n",
    "# go here to get colourmaps: https://matplotlib.org/3.1.0/tutorials/colors/colormaps.html\n",
    "plt.rcParams[\"axes.prop_cycle\"] = plt.cycler(\"color\", plt.cm.tab20c.colors)\n",
    "\n",
    "plt.figure(figsize=(10,7))\n",
    "plt.rcParams.update({'font.size': 12})\n",
    "plt.loglog(Ls, ents_1d, '.-')\n",
    "plt.xlabel('L')\n",
    "plt.ylabel('S(L/2)')\n",
    "plt.legend(ps)\n",
    "plt.xticks(Ls, Ls)\n",
    "# plt.savefig('fig_ent1D.pdf')"
   ]
  },
  {
   "cell_type": "code",
   "execution_count": 13,
   "metadata": {
    "tags": []
   },
   "outputs": [
    {
     "data": {
      "image/png": "[encoded data removed]",
      "text/plain": [
       "<Figure size 720x504 with 2 Axes>"
      ]
     },
     "metadata": {
      "needs_background": "light"
     },
     "output_type": "display_data"
    }
   ],
   "source": [
    "import matplotlib as mpl\n",
    "# go here to get colourmaps: https://matplotlib.org/3.1.0/tutorials/colors/colormaps.html\n",
    "plt.rcParams[\"axes.prop_cycle\"] = plt.cycler(\"color\", plt.cm.Dark2.colors)\n",
    "\n",
    "fig, ax1 = plt.subplots(figsize=(10,7))\n",
    "plt.rcParams.update({'font.size': 12})\n",
    "\n",
    "left, bottom, width, height = [0.45, 0.53, 0.34, 0.32]\n",
    "ax2 = fig.add_axes([left, bottom, width, height])\n",
    "\n",
    "pc = 0.16\n",
    "nu = 1.33\n",
    "\n",
    "# ps_norm = np.outer(ps-np.repeat(pc,len(ps)), np.power(Ls,1/nu))\n",
    "# entspc = ents_1d_density[:,np.where(np.array(ps) == pc)[0][0]] # ent at pc\n",
    "# ents_norm = ents_1d_density - np.tile(entspc.T,(10,1)).T\n",
    "\n",
    "ps_norm = np.outer(ps-np.repeat(pc,len(ps)), np.power(Ls,1/nu))\n",
    "entspc = ents_1d[:,np.where(np.array(ps) == pc)[0][0]] # ent at pc\n",
    "ents_norm = ents_1d - np.tile(entspc.T,(10,1)).T\n",
    "\n",
    "ax1.plot(ps, np.fliplr(ents_1d_density.T)[:,:-1], '.-', alpha=0.7)\n",
    "ax1.legend(np.flip(Ls))\n",
    "ax1.set_xlabel('p')\n",
    "ax1.set_ylabel('S(L/2)/L')\n",
    "\n",
    "ax2.plot(ps_norm[:,4:], ents_norm.T[:,4:], '.', alpha=0.7)\n",
    "ax2.set_xlabel(r'$(p-p_c)L^{1/\\nu}$')\n",
    "ax2.set_ylabel(r'$S-S_{p_c}$')\n",
    "ax2.axvline(x=0, color='black', linestyle='--', alpha=0.3)\n",
    "ax2.axhline(y=0, color='black', linestyle='--', alpha=0.3)\n",
    "ax2.set_ylim([-10,100])\n",
    "ax2.set_xlim([-10,10])\n",
    "\n",
    "# ax2.plot(ps, np.fliplr(ents_1d_density.T)[:,:2], '.-')\n",
    "# ax2.legend(np.flip(Ls)[:2])\n",
    "\n",
    "# plt.show()\n",
    "# plt.savefig('fig_ent1D_dens.pdf')"
   ]
  },
  {
   "cell_type": "code",
   "execution_count": null,
   "metadata": {},
   "outputs": [],
   "source": []
  },
  {
   "cell_type": "markdown",
   "metadata": {},
   "source": [
    "### obc  - larger run, running each L size system out to 2L. single cut of size L/2"
   ]
  },
  {
   "cell_type": "code",
   "execution_count": null,
   "metadata": {
    "tags": []
   },
   "outputs": [],
   "source": [
    "Ls = [16, 24, 32, 40, 48, 64, 128]\n",
    "ps = [0.1, 0.12, 0.14, 0.15, 0.16, 0.17, 0.18, 0.2, 0.25]\n",
    "\n",
    "ents_1d = np.zeros((len(Ls), len(ps)), dtype='float64')\n",
    "for i in range(len(Ls)):\n",
    "    for j in range(len(ps)):\n",
    "        infile = open('ent_1d_obc/L' + str(Ls[i]) + '_p' + str(ps[j]), 'rb')\n",
    "        ent = pickle.load(infile)\n",
    "        infile.close()\n",
    "        #print(Ls[i], ps[j], ent.shape)\n",
    "        ents_1d[i,j] = np.mean(np.mean(ent, axis=0)[-Ls[i]//4:])\n",
    "\n",
    "ents_1d_density = ents_1d / np.array(Ls)[:, None]\n",
    "\n",
    "plt.figure(figsize=(16,5))\n",
    "plt.subplot(1,2,1)\n",
    "plt.plot(Ls, ents_1d, '.-')\n",
    "plt.xlabel('L')\n",
    "plt.ylabel('S')\n",
    "plt.title('entropy vs. system size')\n",
    "plt.legend(ps)\n",
    "plt.subplot(1,2,2)\n",
    "plt.plot(ps, ents_1d_density.T, '.-')\n",
    "plt.xlabel('p')\n",
    "plt.ylabel('S/L')\n",
    "plt.title('entropy density vs. p')\n",
    "plt.legend(Ls)\n",
    "plt.show()\n",
    "\n",
    "print(ents_1d[0,:])\n"
   ]
  },
  {
   "cell_type": "code",
   "execution_count": null,
   "metadata": {
    "tags": []
   },
   "outputs": [],
   "source": []
  }
 ],
 "metadata": {
  "kernelspec": {
   "display_name": "Python 3",
   "language": "python",
   "name": "python3"
  },
  "language_info": {
   "codemirror_mode": {
    "name": "ipython",
    "version": 3
   },
   "file_extension": ".py",
   "mimetype": "text/x-python",
   "name": "python",
   "nbconvert_exporter": "python",
   "pygments_lexer": "ipython3",
   "version": "3.7.11"
  }
 },
 "nbformat": 4,
 "nbformat_minor": 4
}
